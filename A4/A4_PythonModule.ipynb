{
 "cells": [
  {
   "cell_type": "markdown",
   "id": "6372a451",
   "metadata": {},
   "source": [
    "## Testing out our index.a4 module. "
   ]
  },
  {
   "cell_type": "markdown",
   "id": "568dc91b",
   "metadata": {},
   "source": [
    "To start, import the module index_a4. Ensure you are in the same file with index_a4.py file to import it sucessfully."
   ]
  },
  {
   "cell_type": "code",
   "execution_count": null,
   "id": "e9918de1",
   "metadata": {},
   "outputs": [],
   "source": [
    "import index_a4"
   ]
  },
  {
   "cell_type": "markdown",
   "id": "9fdc9c52",
   "metadata": {},
   "source": [
    "Use the inbuilt python help() function to get help for the entire module"
   ]
  },
  {
   "cell_type": "code",
   "execution_count": null,
   "id": "8dda17b1",
   "metadata": {},
   "outputs": [],
   "source": [
    "help(index_a4)"
   ]
  },
  {
   "cell_type": "markdown",
   "id": "69217bf1",
   "metadata": {},
   "source": [
    "or each function when needed as needed"
   ]
  },
  {
   "cell_type": "code",
   "execution_count": null,
   "id": "09c2ada5",
   "metadata": {},
   "outputs": [],
   "source": [
    "help(index_a4.ndvi)"
   ]
  },
  {
   "cell_type": "code",
   "execution_count": null,
   "id": "768d2e89",
   "metadata": {},
   "outputs": [],
   "source": [
    "help(index_a4.evi)"
   ]
  },
  {
   "cell_type": "code",
   "execution_count": null,
   "id": "23aaed0f",
   "metadata": {},
   "outputs": [],
   "source": [
    "help(index_a4.ndwi)"
   ]
  },
  {
   "cell_type": "markdown",
   "id": "ea8707cf",
   "metadata": {},
   "source": [
    "Now call each index function and input the necessary parameters. Don't forget to encase this in a print statement to not get gibberish. \n",
    "You can assign your input values to variables or directly into the function. I prefer the latter, so below are my test values assigned to variables."
   ]
  },
  {
   "cell_type": "code",
   "execution_count": null,
   "id": "7776131d",
   "metadata": {},
   "outputs": [],
   "source": [
    "red = 4\n",
    "green = 6\n",
    "blue = 7\n",
    "nir = 8"
   ]
  },
  {
   "cell_type": "code",
   "execution_count": null,
   "id": "49617be8",
   "metadata": {},
   "outputs": [],
   "source": [
    "print(ndvi(nir, red))"
   ]
  },
  {
   "cell_type": "markdown",
   "id": "9b9a2b84",
   "metadata": {},
   "source": [
    "What if we use values directly"
   ]
  },
  {
   "cell_type": "code",
   "execution_count": null,
   "id": "5df17f14",
   "metadata": {},
   "outputs": [],
   "source": [
    "print(ndvi(8, 4))"
   ]
  },
  {
   "cell_type": "markdown",
   "id": "971ea4a7",
   "metadata": {},
   "source": [
    "what if we switch the positions."
   ]
  },
  {
   "cell_type": "code",
   "execution_count": null,
   "id": "47ab56a0",
   "metadata": {},
   "outputs": [],
   "source": [
    "if ndvi(red, nir) >= 0:\n",
    "    print(ndvi(red, nir))\n",
    "    \n",
    "else: \n",
    "    print(\"Wrong position\")\n",
    "    \n",
    "## I only used this simple if statement becasue nir is greater than red, so the correct answer will definitly be greater than 0 and not less"
   ]
  },
  {
   "cell_type": "markdown",
   "id": "deaf35f0",
   "metadata": {},
   "source": [
    "Test the remaining indecies below"
   ]
  },
  {
   "cell_type": "code",
   "execution_count": null,
   "id": "441f4986",
   "metadata": {},
   "outputs": [],
   "source": [
    "print(index_a4.evi(nir, red, blue))"
   ]
  },
  {
   "cell_type": "code",
   "execution_count": null,
   "id": "147e26b2",
   "metadata": {},
   "outputs": [],
   "source": [
    "print(index_a4.ndwi(nir, green))"
   ]
  },
  {
   "cell_type": "markdown",
   "id": "99aa3284",
   "metadata": {},
   "source": [
    "You may also call the index functions as below to avoid typing it out everytime"
   ]
  },
  {
   "cell_type": "code",
   "execution_count": null,
   "id": "ce821065",
   "metadata": {},
   "outputs": [],
   "source": [
    "from index_a4 import ndvi"
   ]
  },
  {
   "cell_type": "markdown",
   "id": "023f30a1",
   "metadata": {},
   "source": [
    "That way you can run the function as below"
   ]
  },
  {
   "cell_type": "code",
   "execution_count": null,
   "id": "a26714a0",
   "metadata": {},
   "outputs": [],
   "source": [
    "print(ndvi(nir, red))"
   ]
  },
  {
   "cell_type": "markdown",
   "id": "877e0924",
   "metadata": {},
   "source": [
    "### That'll be all for now. Stay tuned for the final product."
   ]
  }
 ],
 "metadata": {
  "kernelspec": {
   "display_name": "Python 3",
   "language": "python",
   "name": "python3"
  },
  "language_info": {
   "codemirror_mode": {
    "name": "ipython",
    "version": 3
   },
   "file_extension": ".py",
   "mimetype": "text/x-python",
   "name": "python",
   "nbconvert_exporter": "python",
   "pygments_lexer": "ipython3",
   "version": "3.9.11"
  }
 },
 "nbformat": 4,
 "nbformat_minor": 5
}
